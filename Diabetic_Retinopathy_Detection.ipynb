{
  "nbformat": 4,
  "nbformat_minor": 0,
  "metadata": {
    "colab": {
      "name": "Diabetic Retinopathy Detection.ipynb",
      "provenance": [],
      "collapsed_sections": [],
      "authorship_tag": "ABX9TyMp36+vc9aRin/3IWCz8vqj",
      "include_colab_link": true
    },
    "kernelspec": {
      "name": "python3",
      "display_name": "Python 3"
    }
  },
  "cells": [
    {
      "cell_type": "markdown",
      "metadata": {
        "id": "view-in-github",
        "colab_type": "text"
      },
      "source": [
        "<a href=\"https://colab.research.google.com/github/javierespinozat/Diabetic-Retinopathy-Detection/blob/draft/Diabetic_Retinopathy_Detection.ipynb\" target=\"_parent\"><img src=\"https://colab.research.google.com/assets/colab-badge.svg\" alt=\"Open In Colab\"/></a>"
      ]
    },
    {
      "cell_type": "markdown",
      "metadata": {
        "id": "jyiG1YsUS2L_",
        "colab_type": "text"
      },
      "source": [
        "Abstract:\n",
        "This dataset is a large set of high-resolution retina images taken under a variety of imaging conditions. A left and right field is provided for every subject. Images are labeled with a subject id as well as either left or right (e.g. 1_left.jpeg is the left eye of patient id 1).\n",
        "\n",
        "A clinician has rated the presence of diabetic retinopathy in each image on a scale of 0 to 4, according to the following scale:\n",
        "\n",
        "0 - No DR\n",
        "1 - Mild\n",
        "2 - Moderate\n",
        "3 - Severe\n",
        "4 - Proliferative DR\n",
        "Total Images: 35126. The distribution of labels is: {0: 25810, 1: 2443, 2: 5292, 4: 708, 3: 873}\n",
        "\n",
        "Your task is to create an automated analysis system capable of assigning a score based on this scale.\n",
        "\n",
        "The images in the dataset come from different models and types of cameras, which can affect the visual appearance of left vs. right. Some images are shown as one would see the retina anatomically (macula on the left, optic nerve on the right for the right eye). Others are shown as one would see through a microscope condensing lens (i.e. inverted, as one sees in a typical live eye exam). There are generally two ways to tell if an image is inverted:\n",
        "\n",
        "It is inverted if the macula (the small dark central area) is slightly higher than the midline through the optic nerve. If the macula is lower than the midline of the optic nerve, it's not inverted. If there is a notch on the side of the image (square, triangle, or circle) then it's not inverted. If there is no notch, it's inverted.\n",
        "\n",
        "Like any real-world data set, you will encounter noise in both the images and labels. Images may contain artifacts, be out of focus, underexposed, or overexposed. A major aim of this competition is to develop robust algorithms that can function in the presence of noise and variation.\n",
        "\n",
        "\n",
        "\n",
        "\n",
        "\n",
        "URL: https://www.kaggle.com/c/diabetic-retinopathy-detection\n",
        "\n",
        "License: No license specified, the dataset may be protected by copyright.\n"
      ]
    },
    {
      "cell_type": "markdown",
      "metadata": {
        "id": "U3i2vAJ4Rjdf",
        "colab_type": "text"
      },
      "source": [
        "Source: http://academictorrents.com/details/7208a86910cc518ae8feaa9021bf7f8565b97644\n",
        "\n",
        "magnet:?xt=urn:btih:7208a86910cc518ae8feaa9021bf7f8565b97644&tr=http%3A%2F%2Facademictorrents.com%2Fannounce.php&tr=udp%3A%2F%2Ftracker.coppersurfer.tk%3A6969&tr=udp%3A%2F%2Ftracker.opentrackr.org%3A1337%2Fannounce&tr=udp%3A%2F%2Ftracker.leechers-paradise.org%3A6969"
      ]
    },
    {
      "cell_type": "markdown",
      "metadata": {
        "id": "YmEck9MlgEA3",
        "colab_type": "text"
      },
      "source": [
        "este es el magnet a los datos:"
      ]
    },
    {
      "cell_type": "code",
      "metadata": {
        "id": "Gn7FIPZw2k98",
        "colab_type": "code",
        "colab": {}
      },
      "source": [
        "magnet = 'magnet:?xt=urn:btih:08c244595c6cc4ec403b21023cf99c2b085cbc72&tr=http%3A%2F%2Facademictorrents.com%2Fannounce.php&tr=udp%3A%2F%2Ftracker.coppersurfer.tk%3A6969&tr=udp%3A%2F%2Ftracker.opentrackr.org%3A1337%2Fannounce&tr=udp%3A%2F%2Ftracker.leechers-paradise.org%3A6969'"
      ],
      "execution_count": 0,
      "outputs": []
    },
    {
      "cell_type": "markdown",
      "metadata": {
        "id": "ilvy5FxvgF_M",
        "colab_type": "text"
      },
      "source": [
        "instalamos un manager para torrents"
      ]
    },
    {
      "cell_type": "code",
      "metadata": {
        "id": "UXVC4lsXX99Y",
        "colab_type": "code",
        "outputId": "bf508ba5-23fa-4045-831c-78136cf0e07d",
        "colab": {
          "base_uri": "https://localhost:8080/",
          "height": 476
        }
      },
      "source": [
        "!apt install python3-libtorrent"
      ],
      "execution_count": 0,
      "outputs": [
        {
          "output_type": "stream",
          "text": [
            "Reading package lists... Done\n",
            "Building dependency tree       \n",
            "Reading state information... Done\n",
            "The following additional packages will be installed:\n",
            "  libtorrent-rasterbar9\n",
            "Suggested packages:\n",
            "  libtorrent-rasterbar-dbg\n",
            "The following NEW packages will be installed:\n",
            "  libtorrent-rasterbar9 python3-libtorrent\n",
            "0 upgraded, 2 newly installed, 0 to remove and 31 not upgraded.\n",
            "Need to get 1,569 kB of archives.\n",
            "After this operation, 5,718 kB of additional disk space will be used.\n",
            "Get:1 http://archive.ubuntu.com/ubuntu bionic/universe amd64 libtorrent-rasterbar9 amd64 1.1.5-1build1 [1,258 kB]\n",
            "Get:2 http://archive.ubuntu.com/ubuntu bionic/universe amd64 python3-libtorrent amd64 1.1.5-1build1 [310 kB]\n",
            "Fetched 1,569 kB in 1s (1,088 kB/s)\n",
            "Selecting previously unselected package libtorrent-rasterbar9.\n",
            "(Reading database ... 144433 files and directories currently installed.)\n",
            "Preparing to unpack .../libtorrent-rasterbar9_1.1.5-1build1_amd64.deb ...\n",
            "Unpacking libtorrent-rasterbar9 (1.1.5-1build1) ...\n",
            "Selecting previously unselected package python3-libtorrent.\n",
            "Preparing to unpack .../python3-libtorrent_1.1.5-1build1_amd64.deb ...\n",
            "Unpacking python3-libtorrent (1.1.5-1build1) ...\n",
            "Setting up libtorrent-rasterbar9 (1.1.5-1build1) ...\n",
            "Setting up python3-libtorrent (1.1.5-1build1) ...\n",
            "Processing triggers for libc-bin (2.27-3ubuntu1) ...\n",
            "/sbin/ldconfig.real: /usr/local/lib/python3.6/dist-packages/ideep4py/lib/libmkldnn.so.0 is not a symbolic link\n",
            "\n"
          ],
          "name": "stdout"
        }
      ]
    },
    {
      "cell_type": "markdown",
      "metadata": {
        "id": "P5--TZu1f9Xq",
        "colab_type": "text"
      },
      "source": [
        "descargamos los datos en la máquina de google (aprox 40 min)"
      ]
    },
    {
      "cell_type": "code",
      "metadata": {
        "id": "387lmqyGYA4s",
        "colab_type": "code",
        "outputId": "0cbd0d85-ed31-4f0a-edf2-38c5b4143460",
        "colab": {
          "base_uri": "https://localhost:8080/",
          "height": 1000
        }
      },
      "source": [
        "import libtorrent as lt\n",
        "import time\n",
        "import datetime\n",
        "\n",
        "ses = lt.session()\n",
        "ses.listen_on(6881, 6891)\n",
        "params = {\n",
        "    'save_path': '/tmp/Chest X-Ray Images (Pneumonia)',\n",
        "    'storage_mode': lt.storage_mode_t(2),\n",
        "    'paused': False,\n",
        "    'auto_managed': True,\n",
        "    'duplicate_is_error': True}\n",
        "link = magnet\n",
        "print(link)\n",
        "\n",
        "handle = lt.add_magnet_uri(ses, link, params)\n",
        "ses.start_dht()\n",
        "\n",
        "begin = time.time()\n",
        "print(datetime.datetime.now())\n",
        "\n",
        "print ('Downloading Metadata...')\n",
        "while (not handle.has_metadata()):\n",
        "    time.sleep(1)\n",
        "print ('Got Metadata, Starting Torrent Download...')\n",
        "\n",
        "print(\"Starting\", handle.name())\n",
        "\n",
        "while (handle.status().state != lt.torrent_status.seeding):\n",
        "    s = handle.status()\n",
        "    state_str = ['queued', 'checking', 'downloading metadata', \\\n",
        "            'downloading', 'finished', 'seeding', 'allocating']\n",
        "    print ('%.2f%% complete (down: %.1f kb/s up: %.1f kB/s peers: %d) %s ' % \\\n",
        "            (s.progress * 100, s.download_rate / 1000, s.upload_rate / 1000, \\\n",
        "            s.num_peers, state_str[s.state]))\n",
        "    time.sleep(5)\n",
        "\n",
        "end = time.time()\n",
        "print(handle.name(), \"COMPLETE\")\n",
        "\n",
        "print(\"Elapsed Time: \",int((end-begin)//60),\"min :\", int((end-begin)%60), \"sec\")\n",
        "\n",
        "print(datetime.datetime.now())"
      ],
      "execution_count": 0,
      "outputs": [
        {
          "output_type": "stream",
          "text": [
            "magnet:?xt=urn:btih:08c244595c6cc4ec403b21023cf99c2b085cbc72&tr=http%3A%2F%2Facademictorrents.com%2Fannounce.php&tr=udp%3A%2F%2Ftracker.coppersurfer.tk%3A6969&tr=udp%3A%2F%2Ftracker.opentrackr.org%3A1337%2Fannounce&tr=udp%3A%2F%2Ftracker.leechers-paradise.org%3A6969\n",
            "2020-05-20 22:02:36.789954\n",
            "Downloading Metadata...\n",
            "Got Metadata, Starting Torrent Download...\n",
            "Starting diabetic-retinopathy-detection\n",
            "0.00% complete (down: 23.1 kb/s up: 1.2 kB/s peers: 5) downloading \n",
            "0.02% complete (down: 1036.1 kb/s up: 33.5 kB/s peers: 5) downloading \n",
            "0.05% complete (down: 1910.3 kb/s up: 57.2 kB/s peers: 5) downloading \n",
            "0.10% complete (down: 2574.8 kb/s up: 74.5 kB/s peers: 5) downloading \n",
            "0.14% complete (down: 2796.9 kb/s up: 80.7 kB/s peers: 5) downloading \n",
            "0.19% complete (down: 3275.0 kb/s up: 94.1 kB/s peers: 5) downloading \n",
            "0.24% complete (down: 3274.1 kb/s up: 93.2 kB/s peers: 5) downloading \n",
            "0.29% complete (down: 3719.6 kb/s up: 106.4 kB/s peers: 5) downloading \n",
            "0.35% complete (down: 3826.6 kb/s up: 109.5 kB/s peers: 5) downloading \n",
            "0.41% complete (down: 4657.7 kb/s up: 133.7 kB/s peers: 5) downloading \n",
            "0.47% complete (down: 4066.2 kb/s up: 115.2 kB/s peers: 5) downloading \n",
            "0.54% complete (down: 4728.0 kb/s up: 136.0 kB/s peers: 5) downloading \n",
            "0.63% complete (down: 5240.3 kb/s up: 150.4 kB/s peers: 5) downloading \n",
            "0.69% complete (down: 5463.4 kb/s up: 155.0 kB/s peers: 5) downloading \n",
            "0.76% complete (down: 5331.4 kb/s up: 150.8 kB/s peers: 5) downloading \n",
            "0.84% complete (down: 4615.9 kb/s up: 131.5 kB/s peers: 5) downloading \n",
            "0.90% complete (down: 5234.7 kb/s up: 147.0 kB/s peers: 5) downloading \n",
            "0.97% complete (down: 4550.5 kb/s up: 128.4 kB/s peers: 5) downloading \n",
            "1.05% complete (down: 4996.3 kb/s up: 143.5 kB/s peers: 5) downloading \n",
            "1.13% complete (down: 5514.6 kb/s up: 157.1 kB/s peers: 5) downloading \n",
            "1.21% complete (down: 5990.0 kb/s up: 171.9 kB/s peers: 5) downloading \n",
            "1.30% complete (down: 5650.4 kb/s up: 159.9 kB/s peers: 5) downloading \n",
            "1.36% complete (down: 5337.1 kb/s up: 150.4 kB/s peers: 5) downloading \n",
            "1.43% complete (down: 5161.3 kb/s up: 146.6 kB/s peers: 5) downloading \n",
            "1.51% complete (down: 5331.3 kb/s up: 151.1 kB/s peers: 5) downloading \n",
            "1.58% complete (down: 5354.2 kb/s up: 151.9 kB/s peers: 5) downloading \n",
            "1.66% complete (down: 5580.6 kb/s up: 157.3 kB/s peers: 5) downloading \n",
            "1.72% complete (down: 4977.0 kb/s up: 141.4 kB/s peers: 5) downloading \n",
            "1.79% complete (down: 4539.3 kb/s up: 127.5 kB/s peers: 5) downloading \n",
            "1.87% complete (down: 5410.0 kb/s up: 155.2 kB/s peers: 5) downloading \n",
            "1.98% complete (down: 7253.5 kb/s up: 213.6 kB/s peers: 5) downloading \n",
            "2.11% complete (down: 8281.2 kb/s up: 244.4 kB/s peers: 5) downloading \n",
            "2.23% complete (down: 8357.2 kb/s up: 239.9 kB/s peers: 5) downloading \n",
            "2.33% complete (down: 8416.3 kb/s up: 238.5 kB/s peers: 5) downloading \n",
            "2.44% complete (down: 7633.0 kb/s up: 216.0 kB/s peers: 5) downloading \n",
            "2.53% complete (down: 7356.5 kb/s up: 207.4 kB/s peers: 5) downloading \n",
            "2.62% complete (down: 6667.8 kb/s up: 187.5 kB/s peers: 5) downloading \n",
            "2.69% complete (down: 5949.1 kb/s up: 167.1 kB/s peers: 5) downloading \n",
            "2.79% complete (down: 5940.8 kb/s up: 167.9 kB/s peers: 5) downloading \n",
            "2.87% complete (down: 6364.7 kb/s up: 180.3 kB/s peers: 5) downloading \n",
            "2.97% complete (down: 7401.3 kb/s up: 214.0 kB/s peers: 5) downloading \n",
            "3.06% complete (down: 6258.3 kb/s up: 177.0 kB/s peers: 5) downloading \n",
            "3.13% complete (down: 5414.6 kb/s up: 152.2 kB/s peers: 5) downloading \n",
            "3.21% complete (down: 4512.7 kb/s up: 126.8 kB/s peers: 5) downloading \n",
            "3.29% complete (down: 5368.6 kb/s up: 151.6 kB/s peers: 5) downloading \n",
            "3.38% complete (down: 6820.3 kb/s up: 196.4 kB/s peers: 5) downloading \n",
            "3.46% complete (down: 5984.5 kb/s up: 169.2 kB/s peers: 5) downloading \n",
            "3.53% complete (down: 5680.4 kb/s up: 159.3 kB/s peers: 5) downloading \n",
            "3.61% complete (down: 6193.4 kb/s up: 176.4 kB/s peers: 5) downloading \n",
            "3.70% complete (down: 5810.4 kb/s up: 167.2 kB/s peers: 5) downloading \n",
            "3.77% complete (down: 5545.1 kb/s up: 156.3 kB/s peers: 5) downloading \n",
            "3.87% complete (down: 6352.5 kb/s up: 182.8 kB/s peers: 5) downloading \n",
            "3.94% complete (down: 6275.2 kb/s up: 177.1 kB/s peers: 5) downloading \n",
            "4.03% complete (down: 5495.4 kb/s up: 156.5 kB/s peers: 5) downloading \n",
            "4.10% complete (down: 5237.5 kb/s up: 147.2 kB/s peers: 5) downloading \n",
            "4.17% complete (down: 5461.1 kb/s up: 153.4 kB/s peers: 5) downloading \n",
            "4.26% complete (down: 5969.6 kb/s up: 170.8 kB/s peers: 5) downloading \n",
            "4.34% complete (down: 5419.0 kb/s up: 157.5 kB/s peers: 5) downloading \n",
            "4.42% complete (down: 6316.2 kb/s up: 180.3 kB/s peers: 5) downloading \n",
            "4.50% complete (down: 4788.3 kb/s up: 135.4 kB/s peers: 5) downloading \n",
            "4.58% complete (down: 6111.8 kb/s up: 174.5 kB/s peers: 5) downloading \n",
            "4.67% complete (down: 5280.5 kb/s up: 150.7 kB/s peers: 5) downloading \n",
            "4.75% complete (down: 6292.6 kb/s up: 180.7 kB/s peers: 5) downloading \n",
            "4.82% complete (down: 4819.1 kb/s up: 136.3 kB/s peers: 5) downloading \n",
            "4.89% complete (down: 5504.3 kb/s up: 155.6 kB/s peers: 5) downloading \n",
            "4.97% complete (down: 4794.6 kb/s up: 138.7 kB/s peers: 5) downloading \n",
            "5.03% complete (down: 5066.5 kb/s up: 144.7 kB/s peers: 5) downloading \n",
            "5.11% complete (down: 4830.3 kb/s up: 135.6 kB/s peers: 5) downloading \n",
            "5.18% complete (down: 4719.6 kb/s up: 134.0 kB/s peers: 5) downloading \n",
            "5.24% complete (down: 4327.1 kb/s up: 122.8 kB/s peers: 5) downloading \n",
            "5.30% complete (down: 5326.0 kb/s up: 150.4 kB/s peers: 5) downloading \n",
            "5.37% complete (down: 5212.4 kb/s up: 146.5 kB/s peers: 5) downloading \n",
            "5.45% complete (down: 5620.9 kb/s up: 161.7 kB/s peers: 5) downloading \n",
            "5.53% complete (down: 5691.6 kb/s up: 163.3 kB/s peers: 5) downloading \n",
            "5.62% complete (down: 5577.5 kb/s up: 159.8 kB/s peers: 5) downloading \n",
            "5.69% complete (down: 5473.2 kb/s up: 155.9 kB/s peers: 5) downloading \n",
            "5.75% complete (down: 5096.3 kb/s up: 143.9 kB/s peers: 5) downloading \n",
            "5.82% complete (down: 4678.1 kb/s up: 131.9 kB/s peers: 5) downloading \n",
            "5.90% complete (down: 5648.6 kb/s up: 161.3 kB/s peers: 5) downloading \n",
            "5.97% complete (down: 5239.6 kb/s up: 149.1 kB/s peers: 5) downloading \n",
            "6.05% complete (down: 5549.1 kb/s up: 157.3 kB/s peers: 5) downloading \n",
            "6.11% complete (down: 4504.7 kb/s up: 126.1 kB/s peers: 5) downloading \n",
            "6.18% complete (down: 5087.8 kb/s up: 142.8 kB/s peers: 5) downloading \n",
            "6.26% complete (down: 5190.7 kb/s up: 146.6 kB/s peers: 5) downloading \n",
            "6.32% complete (down: 4724.1 kb/s up: 132.9 kB/s peers: 5) downloading \n",
            "6.38% complete (down: 4611.2 kb/s up: 131.9 kB/s peers: 5) downloading \n",
            "6.44% complete (down: 4654.6 kb/s up: 131.8 kB/s peers: 5) downloading \n",
            "6.52% complete (down: 4749.0 kb/s up: 136.0 kB/s peers: 5) downloading \n",
            "6.61% complete (down: 5910.0 kb/s up: 171.6 kB/s peers: 5) downloading \n",
            "6.68% complete (down: 6090.6 kb/s up: 172.0 kB/s peers: 5) downloading \n",
            "6.76% complete (down: 5613.6 kb/s up: 158.4 kB/s peers: 5) downloading \n",
            "6.84% complete (down: 6239.2 kb/s up: 177.1 kB/s peers: 5) downloading \n",
            "6.93% complete (down: 5589.7 kb/s up: 160.0 kB/s peers: 5) downloading \n",
            "7.03% complete (down: 6914.4 kb/s up: 197.8 kB/s peers: 5) downloading \n",
            "7.10% complete (down: 5293.1 kb/s up: 151.0 kB/s peers: 5) downloading \n",
            "7.19% complete (down: 6130.9 kb/s up: 173.5 kB/s peers: 5) downloading \n",
            "7.26% complete (down: 6408.6 kb/s up: 180.9 kB/s peers: 5) downloading \n",
            "7.34% complete (down: 5625.6 kb/s up: 157.7 kB/s peers: 5) downloading \n",
            "7.43% complete (down: 6128.9 kb/s up: 176.0 kB/s peers: 5) downloading \n",
            "7.51% complete (down: 6093.9 kb/s up: 173.4 kB/s peers: 5) downloading \n",
            "7.59% complete (down: 5500.3 kb/s up: 154.7 kB/s peers: 5) downloading \n",
            "7.68% complete (down: 6462.3 kb/s up: 185.8 kB/s peers: 5) downloading \n",
            "7.76% complete (down: 6116.4 kb/s up: 173.3 kB/s peers: 5) downloading \n",
            "7.83% complete (down: 5870.0 kb/s up: 164.4 kB/s peers: 5) downloading \n",
            "7.91% complete (down: 5218.8 kb/s up: 147.2 kB/s peers: 5) downloading \n",
            "7.99% complete (down: 5612.8 kb/s up: 158.9 kB/s peers: 5) downloading \n",
            "8.06% complete (down: 5695.6 kb/s up: 160.8 kB/s peers: 5) downloading \n",
            "8.14% complete (down: 5056.5 kb/s up: 143.3 kB/s peers: 5) downloading \n",
            "8.23% complete (down: 6236.9 kb/s up: 179.3 kB/s peers: 5) downloading \n",
            "8.30% complete (down: 6005.0 kb/s up: 169.0 kB/s peers: 5) downloading \n",
            "8.38% complete (down: 5562.2 kb/s up: 156.2 kB/s peers: 5) downloading \n",
            "8.46% complete (down: 5741.5 kb/s up: 162.5 kB/s peers: 5) downloading \n",
            "8.54% complete (down: 5586.2 kb/s up: 157.4 kB/s peers: 5) downloading \n",
            "8.62% complete (down: 5804.8 kb/s up: 164.7 kB/s peers: 5) downloading \n",
            "8.70% complete (down: 5190.1 kb/s up: 148.2 kB/s peers: 5) downloading \n",
            "8.77% complete (down: 6191.9 kb/s up: 176.9 kB/s peers: 5) downloading \n",
            "8.85% complete (down: 5563.3 kb/s up: 158.9 kB/s peers: 5) downloading \n",
            "8.94% complete (down: 5471.2 kb/s up: 155.8 kB/s peers: 5) downloading \n",
            "9.02% complete (down: 6127.4 kb/s up: 173.1 kB/s peers: 5) downloading \n",
            "9.10% complete (down: 6052.5 kb/s up: 171.3 kB/s peers: 5) downloading \n",
            "9.17% complete (down: 5784.9 kb/s up: 163.5 kB/s peers: 5) downloading \n",
            "9.25% complete (down: 5417.4 kb/s up: 153.2 kB/s peers: 5) downloading \n",
            "9.36% complete (down: 6886.6 kb/s up: 200.5 kB/s peers: 5) downloading \n",
            "9.47% complete (down: 7280.7 kb/s up: 207.7 kB/s peers: 5) downloading \n",
            "9.56% complete (down: 7007.5 kb/s up: 196.8 kB/s peers: 5) downloading \n",
            "9.63% complete (down: 5343.9 kb/s up: 149.0 kB/s peers: 5) downloading \n",
            "9.71% complete (down: 5453.7 kb/s up: 153.0 kB/s peers: 5) downloading \n",
            "9.79% complete (down: 5879.5 kb/s up: 166.5 kB/s peers: 5) downloading \n",
            "9.87% complete (down: 5593.7 kb/s up: 157.5 kB/s peers: 5) downloading \n",
            "9.94% complete (down: 5087.1 kb/s up: 143.9 kB/s peers: 5) downloading \n",
            "10.01% complete (down: 4211.8 kb/s up: 118.4 kB/s peers: 5) downloading \n",
            "10.08% complete (down: 5255.6 kb/s up: 148.6 kB/s peers: 5) downloading \n",
            "10.13% complete (down: 4687.0 kb/s up: 132.5 kB/s peers: 5) downloading \n",
            "10.20% complete (down: 4744.3 kb/s up: 134.5 kB/s peers: 5) downloading \n",
            "10.27% complete (down: 5186.1 kb/s up: 146.5 kB/s peers: 5) downloading \n",
            "10.34% complete (down: 4921.6 kb/s up: 139.9 kB/s peers: 5) downloading \n",
            "10.41% complete (down: 4645.2 kb/s up: 131.4 kB/s peers: 5) downloading \n",
            "10.48% complete (down: 5205.4 kb/s up: 148.1 kB/s peers: 5) downloading \n",
            "10.54% complete (down: 4606.6 kb/s up: 130.6 kB/s peers: 5) downloading \n",
            "10.61% complete (down: 4390.1 kb/s up: 125.7 kB/s peers: 5) downloading \n",
            "10.68% complete (down: 5128.1 kb/s up: 145.3 kB/s peers: 5) downloading \n",
            "10.77% complete (down: 6472.5 kb/s up: 187.2 kB/s peers: 5) downloading \n",
            "10.86% complete (down: 6019.7 kb/s up: 170.5 kB/s peers: 5) downloading \n",
            "10.92% complete (down: 5550.6 kb/s up: 156.9 kB/s peers: 5) downloading \n",
            "11.00% complete (down: 5603.3 kb/s up: 158.0 kB/s peers: 5) downloading \n",
            "11.07% complete (down: 4822.6 kb/s up: 137.4 kB/s peers: 5) downloading \n",
            "11.14% complete (down: 5266.7 kb/s up: 148.5 kB/s peers: 5) downloading \n",
            "11.21% complete (down: 5512.7 kb/s up: 157.4 kB/s peers: 5) downloading \n",
            "11.30% complete (down: 5721.4 kb/s up: 162.1 kB/s peers: 5) downloading \n",
            "11.36% complete (down: 5178.0 kb/s up: 145.3 kB/s peers: 5) downloading \n",
            "11.42% complete (down: 4847.8 kb/s up: 136.5 kB/s peers: 5) downloading \n",
            "11.51% complete (down: 5845.0 kb/s up: 167.5 kB/s peers: 5) downloading \n",
            "11.59% complete (down: 5669.3 kb/s up: 162.2 kB/s peers: 5) downloading \n",
            "11.67% complete (down: 6300.5 kb/s up: 178.8 kB/s peers: 5) downloading \n",
            "11.74% complete (down: 5423.8 kb/s up: 152.5 kB/s peers: 5) downloading \n",
            "11.82% complete (down: 4515.1 kb/s up: 126.8 kB/s peers: 5) downloading \n",
            "11.88% complete (down: 4781.8 kb/s up: 135.3 kB/s peers: 5) downloading \n",
            "11.95% complete (down: 5189.3 kb/s up: 145.8 kB/s peers: 5) downloading \n",
            "12.02% complete (down: 5180.7 kb/s up: 148.1 kB/s peers: 5) downloading \n",
            "12.10% complete (down: 5241.0 kb/s up: 148.9 kB/s peers: 5) downloading \n",
            "12.18% complete (down: 6165.4 kb/s up: 176.0 kB/s peers: 5) downloading \n",
            "12.25% complete (down: 5029.9 kb/s up: 142.4 kB/s peers: 5) downloading \n",
            "12.32% complete (down: 4822.4 kb/s up: 136.1 kB/s peers: 5) downloading \n",
            "12.40% complete (down: 6122.1 kb/s up: 175.7 kB/s peers: 5) downloading \n",
            "12.49% complete (down: 6376.9 kb/s up: 181.7 kB/s peers: 5) downloading \n",
            "12.58% complete (down: 6286.7 kb/s up: 179.2 kB/s peers: 5) downloading \n",
            "12.67% complete (down: 5617.9 kb/s up: 158.3 kB/s peers: 5) downloading \n",
            "12.75% complete (down: 6421.5 kb/s up: 181.1 kB/s peers: 5) downloading \n",
            "12.84% complete (down: 6261.1 kb/s up: 179.1 kB/s peers: 5) downloading \n",
            "12.93% complete (down: 6401.5 kb/s up: 181.6 kB/s peers: 5) downloading \n",
            "13.02% complete (down: 6293.0 kb/s up: 178.4 kB/s peers: 5) downloading \n",
            "13.09% complete (down: 6010.5 kb/s up: 170.2 kB/s peers: 5) downloading \n",
            "13.18% complete (down: 5978.7 kb/s up: 169.9 kB/s peers: 5) downloading \n",
            "13.26% complete (down: 5552.1 kb/s up: 155.8 kB/s peers: 5) downloading \n",
            "13.33% complete (down: 5767.9 kb/s up: 162.5 kB/s peers: 5) downloading \n",
            "13.41% complete (down: 5311.8 kb/s up: 150.1 kB/s peers: 5) downloading \n",
            "13.48% complete (down: 5361.1 kb/s up: 151.8 kB/s peers: 5) downloading \n",
            "13.54% complete (down: 5091.5 kb/s up: 144.1 kB/s peers: 5) downloading \n",
            "13.60% complete (down: 4677.9 kb/s up: 131.7 kB/s peers: 5) downloading \n",
            "13.66% complete (down: 4374.2 kb/s up: 122.9 kB/s peers: 5) downloading \n",
            "13.75% complete (down: 5669.3 kb/s up: 162.0 kB/s peers: 5) downloading \n",
            "13.82% complete (down: 5664.9 kb/s up: 161.5 kB/s peers: 5) downloading \n",
            "13.89% complete (down: 5102.6 kb/s up: 145.2 kB/s peers: 5) downloading \n",
            "13.98% complete (down: 5963.4 kb/s up: 170.8 kB/s peers: 5) downloading \n",
            "14.06% complete (down: 5844.7 kb/s up: 165.8 kB/s peers: 5) downloading \n",
            "14.15% complete (down: 6271.6 kb/s up: 179.9 kB/s peers: 5) downloading \n",
            "14.23% complete (down: 5616.6 kb/s up: 159.9 kB/s peers: 5) downloading \n",
            "14.31% complete (down: 5860.4 kb/s up: 167.0 kB/s peers: 5) downloading \n",
            "14.40% complete (down: 6401.4 kb/s up: 181.6 kB/s peers: 5) downloading \n",
            "14.49% complete (down: 6270.4 kb/s up: 178.6 kB/s peers: 5) downloading \n",
            "14.57% complete (down: 6214.2 kb/s up: 176.1 kB/s peers: 5) downloading \n",
            "14.66% complete (down: 6417.3 kb/s up: 182.8 kB/s peers: 5) downloading \n",
            "14.76% complete (down: 6362.3 kb/s up: 179.8 kB/s peers: 5) downloading \n",
            "14.84% complete (down: 6871.7 kb/s up: 195.8 kB/s peers: 5) downloading \n",
            "14.95% complete (down: 7286.7 kb/s up: 207.4 kB/s peers: 5) downloading \n",
            "15.04% complete (down: 6607.8 kb/s up: 188.4 kB/s peers: 5) downloading \n",
            "15.15% complete (down: 6469.4 kb/s up: 183.9 kB/s peers: 5) downloading \n",
            "15.24% complete (down: 7219.0 kb/s up: 203.3 kB/s peers: 5) downloading \n",
            "15.33% complete (down: 6768.8 kb/s up: 194.6 kB/s peers: 5) downloading \n",
            "15.46% complete (down: 7792.1 kb/s up: 222.1 kB/s peers: 5) downloading \n",
            "15.55% complete (down: 6946.8 kb/s up: 194.8 kB/s peers: 5) downloading \n",
            "15.65% complete (down: 6332.6 kb/s up: 179.0 kB/s peers: 5) downloading \n",
            "15.74% complete (down: 6551.0 kb/s up: 186.0 kB/s peers: 5) downloading \n",
            "15.82% complete (down: 6694.4 kb/s up: 189.8 kB/s peers: 5) downloading \n",
            "15.93% complete (down: 6996.5 kb/s up: 199.9 kB/s peers: 5) downloading \n",
            "16.03% complete (down: 7400.2 kb/s up: 210.3 kB/s peers: 5) downloading \n",
            "16.13% complete (down: 7265.4 kb/s up: 206.9 kB/s peers: 5) downloading \n",
            "16.22% complete (down: 6598.0 kb/s up: 186.3 kB/s peers: 5) downloading \n",
            "16.29% complete (down: 6002.9 kb/s up: 168.2 kB/s peers: 5) downloading \n",
            "16.39% complete (down: 7055.2 kb/s up: 201.3 kB/s peers: 5) downloading \n",
            "16.48% complete (down: 6105.6 kb/s up: 172.1 kB/s peers: 5) downloading \n",
            "16.57% complete (down: 5865.2 kb/s up: 165.4 kB/s peers: 5) downloading \n",
            "16.65% complete (down: 6297.5 kb/s up: 177.5 kB/s peers: 5) downloading \n",
            "16.73% complete (down: 5944.9 kb/s up: 167.1 kB/s peers: 5) downloading \n",
            "16.81% complete (down: 5729.0 kb/s up: 161.6 kB/s peers: 5) downloading \n",
            "16.88% complete (down: 5527.0 kb/s up: 155.7 kB/s peers: 5) downloading \n",
            "16.99% complete (down: 6490.6 kb/s up: 187.6 kB/s peers: 5) downloading \n",
            "17.07% complete (down: 6829.7 kb/s up: 193.4 kB/s peers: 5) downloading \n",
            "17.15% complete (down: 5880.9 kb/s up: 164.9 kB/s peers: 5) downloading \n",
            "17.24% complete (down: 5738.1 kb/s up: 162.1 kB/s peers: 5) downloading \n",
            "17.33% complete (down: 6577.4 kb/s up: 188.0 kB/s peers: 5) downloading \n",
            "17.40% complete (down: 5857.9 kb/s up: 165.2 kB/s peers: 5) downloading \n",
            "17.48% complete (down: 5782.6 kb/s up: 162.2 kB/s peers: 5) downloading \n",
            "17.55% complete (down: 5696.2 kb/s up: 160.6 kB/s peers: 5) downloading \n",
            "17.62% complete (down: 5166.3 kb/s up: 146.1 kB/s peers: 5) downloading \n",
            "17.70% complete (down: 4905.1 kb/s up: 138.8 kB/s peers: 5) downloading \n",
            "17.78% complete (down: 5274.9 kb/s up: 148.9 kB/s peers: 5) downloading \n",
            "17.86% complete (down: 5463.5 kb/s up: 156.4 kB/s peers: 5) downloading \n",
            "17.94% complete (down: 6078.8 kb/s up: 173.1 kB/s peers: 5) downloading \n",
            "18.05% complete (down: 7582.3 kb/s up: 222.8 kB/s peers: 5) downloading \n",
            "18.14% complete (down: 6127.8 kb/s up: 175.1 kB/s peers: 5) downloading \n",
            "18.23% complete (down: 6025.3 kb/s up: 171.1 kB/s peers: 5) downloading \n",
            "18.31% complete (down: 6300.9 kb/s up: 176.4 kB/s peers: 5) downloading \n",
            "18.38% complete (down: 6081.8 kb/s up: 171.1 kB/s peers: 5) downloading \n",
            "18.46% complete (down: 5577.6 kb/s up: 155.7 kB/s peers: 5) downloading \n",
            "18.52% complete (down: 4553.9 kb/s up: 126.5 kB/s peers: 4) downloading \n",
            "19.10% complete (down: 29785.6 kb/s up: 861.0 kB/s peers: 4) downloading \n",
            "19.57% complete (down: 32484.2 kb/s up: 939.7 kB/s peers: 4) downloading \n",
            "20.19% complete (down: 40115.8 kb/s up: 1157.2 kB/s peers: 4) downloading \n",
            "20.87% complete (down: 46274.9 kb/s up: 1347.6 kB/s peers: 4) downloading \n",
            "21.78% complete (down: 59125.8 kb/s up: 1722.7 kB/s peers: 4) downloading \n",
            "22.77% complete (down: 66354.6 kb/s up: 1931.9 kB/s peers: 4) downloading \n",
            "23.57% complete (down: 61930.7 kb/s up: 1802.6 kB/s peers: 4) downloading \n",
            "24.07% complete (down: 44032.0 kb/s up: 1294.4 kB/s peers: 4) downloading \n",
            "24.82% complete (down: 49567.8 kb/s up: 1452.8 kB/s peers: 5) downloading \n",
            "25.47% complete (down: 46998.6 kb/s up: 1367.3 kB/s peers: 5) downloading \n",
            "26.02% complete (down: 44796.1 kb/s up: 1296.1 kB/s peers: 5) downloading \n",
            "26.43% complete (down: 34093.6 kb/s up: 988.5 kB/s peers: 5) downloading \n",
            "26.84% complete (down: 30571.8 kb/s up: 885.1 kB/s peers: 5) downloading \n",
            "27.27% complete (down: 30354.4 kb/s up: 875.2 kB/s peers: 5) downloading \n",
            "27.64% complete (down: 26070.6 kb/s up: 750.8 kB/s peers: 5) downloading \n",
            "27.94% complete (down: 26261.5 kb/s up: 753.5 kB/s peers: 5) downloading \n",
            "28.23% complete (down: 20601.5 kb/s up: 590.4 kB/s peers: 5) downloading \n",
            "28.50% complete (down: 20099.8 kb/s up: 570.1 kB/s peers: 5) downloading \n",
            "28.74% complete (down: 17281.6 kb/s up: 490.4 kB/s peers: 5) downloading \n",
            "28.93% complete (down: 16649.8 kb/s up: 471.5 kB/s peers: 5) downloading \n",
            "29.13% complete (down: 14730.7 kb/s up: 416.2 kB/s peers: 5) downloading \n",
            "29.31% complete (down: 13006.1 kb/s up: 368.3 kB/s peers: 5) downloading \n",
            "29.45% complete (down: 12255.3 kb/s up: 346.7 kB/s peers: 5) downloading \n",
            "29.60% complete (down: 10239.6 kb/s up: 289.8 kB/s peers: 5) downloading \n",
            "29.77% complete (down: 13099.9 kb/s up: 373.6 kB/s peers: 5) downloading \n",
            "29.92% complete (down: 9985.6 kb/s up: 283.5 kB/s peers: 5) downloading \n",
            "30.05% complete (down: 10828.6 kb/s up: 304.5 kB/s peers: 5) downloading \n",
            "30.18% complete (down: 9321.5 kb/s up: 262.1 kB/s peers: 5) downloading \n",
            "30.29% complete (down: 8700.5 kb/s up: 243.2 kB/s peers: 5) downloading \n",
            "30.40% complete (down: 7665.0 kb/s up: 215.5 kB/s peers: 5) downloading \n",
            "30.51% complete (down: 7589.3 kb/s up: 213.5 kB/s peers: 5) downloading \n",
            "30.61% complete (down: 7404.3 kb/s up: 208.6 kB/s peers: 5) downloading \n",
            "30.72% complete (down: 7257.5 kb/s up: 206.5 kB/s peers: 5) downloading \n",
            "30.80% complete (down: 7024.7 kb/s up: 196.8 kB/s peers: 5) downloading \n",
            "30.89% complete (down: 6061.8 kb/s up: 171.2 kB/s peers: 5) downloading \n",
            "31.01% complete (down: 7832.3 kb/s up: 225.5 kB/s peers: 5) downloading \n",
            "31.11% complete (down: 7559.0 kb/s up: 213.7 kB/s peers: 5) downloading \n",
            "31.20% complete (down: 6712.8 kb/s up: 187.5 kB/s peers: 5) downloading \n",
            "31.30% complete (down: 6805.7 kb/s up: 192.3 kB/s peers: 5) downloading \n",
            "31.39% complete (down: 7362.8 kb/s up: 208.9 kB/s peers: 5) downloading \n",
            "31.49% complete (down: 5933.0 kb/s up: 167.0 kB/s peers: 5) downloading \n",
            "31.57% complete (down: 5882.0 kb/s up: 166.4 kB/s peers: 5) downloading \n",
            "31.67% complete (down: 7166.4 kb/s up: 204.2 kB/s peers: 5) downloading \n",
            "31.78% complete (down: 6941.7 kb/s up: 199.3 kB/s peers: 5) downloading \n",
            "31.87% complete (down: 6584.0 kb/s up: 185.2 kB/s peers: 5) downloading \n",
            "31.95% complete (down: 6798.7 kb/s up: 190.5 kB/s peers: 5) downloading \n",
            "32.04% complete (down: 6584.9 kb/s up: 186.7 kB/s peers: 5) downloading \n",
            "32.12% complete (down: 6266.1 kb/s up: 178.7 kB/s peers: 5) downloading \n",
            "32.21% complete (down: 6736.2 kb/s up: 191.1 kB/s peers: 5) downloading \n",
            "32.31% complete (down: 6631.0 kb/s up: 187.9 kB/s peers: 5) downloading \n",
            "32.38% complete (down: 6073.5 kb/s up: 171.3 kB/s peers: 5) downloading \n",
            "32.46% complete (down: 6527.9 kb/s up: 183.8 kB/s peers: 5) downloading \n",
            "32.55% complete (down: 5605.7 kb/s up: 158.8 kB/s peers: 5) downloading \n",
            "32.63% complete (down: 5527.2 kb/s up: 156.3 kB/s peers: 5) downloading \n",
            "32.73% complete (down: 6000.3 kb/s up: 172.4 kB/s peers: 5) downloading \n",
            "32.80% complete (down: 6183.3 kb/s up: 174.7 kB/s peers: 5) downloading \n",
            "32.88% complete (down: 5863.2 kb/s up: 164.8 kB/s peers: 5) downloading \n",
            "32.98% complete (down: 6092.7 kb/s up: 174.3 kB/s peers: 5) downloading \n",
            "33.08% complete (down: 7173.2 kb/s up: 208.0 kB/s peers: 5) downloading \n",
            "33.15% complete (down: 5597.8 kb/s up: 158.8 kB/s peers: 5) downloading \n",
            "33.21% complete (down: 4832.5 kb/s up: 135.2 kB/s peers: 5) downloading \n",
            "33.27% complete (down: 4434.5 kb/s up: 123.2 kB/s peers: 5) downloading \n",
            "33.31% complete (down: 3593.7 kb/s up: 100.2 kB/s peers: 5) downloading \n",
            "33.34% complete (down: 3024.6 kb/s up: 84.2 kB/s peers: 5) downloading \n",
            "33.38% complete (down: 2504.0 kb/s up: 69.6 kB/s peers: 5) downloading \n",
            "33.41% complete (down: 2306.5 kb/s up: 63.9 kB/s peers: 5) downloading \n",
            "33.43% complete (down: 2002.2 kb/s up: 55.3 kB/s peers: 5) downloading \n",
            "33.45% complete (down: 1575.8 kb/s up: 43.7 kB/s peers: 5) downloading \n",
            "33.47% complete (down: 1424.3 kb/s up: 39.4 kB/s peers: 5) downloading \n",
            "33.49% complete (down: 1100.2 kb/s up: 30.5 kB/s peers: 5) downloading \n",
            "33.50% complete (down: 1088.2 kb/s up: 30.1 kB/s peers: 5) downloading \n",
            "33.52% complete (down: 1605.2 kb/s up: 44.5 kB/s peers: 5) downloading \n",
            "33.74% complete (down: 7198.3 kb/s up: 211.4 kB/s peers: 4) downloading \n",
            "34.80% complete (down: 53234.2 kb/s up: 1554.7 kB/s peers: 4) downloading \n",
            "35.78% complete (down: 65293.4 kb/s up: 1906.7 kB/s peers: 4) downloading \n",
            "36.29% complete (down: 48359.6 kb/s up: 1422.0 kB/s peers: 4) downloading \n",
            "36.88% complete (down: 44164.1 kb/s up: 1304.8 kB/s peers: 4) downloading \n",
            "37.89% complete (down: 62738.4 kb/s up: 1830.3 kB/s peers: 4) downloading \n",
            "38.81% complete (down: 65206.6 kb/s up: 1908.4 kB/s peers: 4) downloading \n",
            "39.67% complete (down: 63861.9 kb/s up: 1871.2 kB/s peers: 4) downloading \n",
            "40.34% complete (down: 53275.4 kb/s up: 1564.6 kB/s peers: 4) downloading \n",
            "41.37% complete (down: 66809.6 kb/s up: 1948.5 kB/s peers: 4) downloading \n",
            "42.38% complete (down: 68712.9 kb/s up: 2001.5 kB/s peers: 4) downloading \n",
            "43.41% complete (down: 73706.7 kb/s up: 2145.9 kB/s peers: 4) downloading \n",
            "44.37% complete (down: 69058.5 kb/s up: 2012.6 kB/s peers: 5) downloading \n",
            "45.38% complete (down: 72602.1 kb/s up: 2116.6 kB/s peers: 5) downloading \n",
            "46.20% complete (down: 66324.0 kb/s up: 1927.9 kB/s peers: 5) downloading \n",
            "46.89% complete (down: 54468.6 kb/s up: 1578.4 kB/s peers: 5) downloading \n",
            "47.51% complete (down: 48145.2 kb/s up: 1401.5 kB/s peers: 5) downloading \n",
            "48.07% complete (down: 42551.1 kb/s up: 1236.4 kB/s peers: 5) downloading \n",
            "48.55% complete (down: 39849.9 kb/s up: 1155.1 kB/s peers: 5) downloading \n",
            "48.97% complete (down: 34086.5 kb/s up: 986.2 kB/s peers: 5) downloading \n",
            "49.41% complete (down: 30715.0 kb/s up: 884.3 kB/s peers: 5) downloading \n",
            "49.77% complete (down: 25926.0 kb/s up: 747.2 kB/s peers: 5) downloading \n",
            "50.08% complete (down: 26072.0 kb/s up: 753.1 kB/s peers: 5) downloading \n",
            "50.42% complete (down: 25192.0 kb/s up: 723.4 kB/s peers: 5) downloading \n",
            "50.69% complete (down: 21082.6 kb/s up: 604.3 kB/s peers: 5) downloading \n",
            "50.93% complete (down: 20670.7 kb/s up: 588.9 kB/s peers: 5) downloading \n",
            "51.16% complete (down: 17749.4 kb/s up: 502.5 kB/s peers: 5) downloading \n",
            "51.37% complete (down: 14349.9 kb/s up: 406.7 kB/s peers: 5) downloading \n",
            "51.57% complete (down: 12285.9 kb/s up: 347.0 kB/s peers: 5) downloading \n",
            "51.70% complete (down: 12770.9 kb/s up: 359.4 kB/s peers: 5) downloading \n",
            "51.88% complete (down: 10389.3 kb/s up: 293.2 kB/s peers: 5) downloading \n",
            "52.02% complete (down: 9429.2 kb/s up: 265.3 kB/s peers: 5) downloading \n",
            "52.15% complete (down: 11046.8 kb/s up: 312.5 kB/s peers: 5) downloading \n",
            "52.28% complete (down: 10386.8 kb/s up: 290.9 kB/s peers: 5) downloading \n",
            "52.40% complete (down: 8892.3 kb/s up: 249.2 kB/s peers: 5) downloading \n",
            "52.50% complete (down: 8227.5 kb/s up: 231.0 kB/s peers: 5) downloading \n",
            "52.62% complete (down: 7738.2 kb/s up: 218.7 kB/s peers: 5) downloading \n",
            "52.72% complete (down: 7589.8 kb/s up: 214.4 kB/s peers: 5) downloading \n",
            "52.87% complete (down: 9321.1 kb/s up: 271.1 kB/s peers: 5) downloading \n",
            "52.99% complete (down: 9102.7 kb/s up: 260.4 kB/s peers: 5) downloading \n",
            "53.09% complete (down: 7865.5 kb/s up: 221.0 kB/s peers: 5) downloading \n",
            "53.18% complete (down: 6557.6 kb/s up: 183.0 kB/s peers: 5) downloading \n",
            "53.24% complete (down: 5232.3 kb/s up: 145.7 kB/s peers: 5) downloading \n",
            "53.30% complete (down: 4915.2 kb/s up: 136.3 kB/s peers: 5) downloading \n",
            "53.36% complete (down: 4647.6 kb/s up: 128.5 kB/s peers: 5) downloading \n",
            "53.71% complete (down: 15094.5 kb/s up: 439.1 kB/s peers: 4) downloading \n",
            "54.56% complete (down: 47333.1 kb/s up: 1392.8 kB/s peers: 4) downloading \n",
            "55.48% complete (down: 56602.4 kb/s up: 1658.5 kB/s peers: 4) downloading \n",
            "56.46% complete (down: 68207.6 kb/s up: 1988.1 kB/s peers: 4) downloading \n",
            "57.36% complete (down: 65808.7 kb/s up: 1923.8 kB/s peers: 4) downloading \n",
            "58.28% complete (down: 64734.1 kb/s up: 1897.3 kB/s peers: 4) downloading \n",
            "59.29% complete (down: 68903.2 kb/s up: 2011.5 kB/s peers: 4) downloading \n",
            "60.19% complete (down: 68498.4 kb/s up: 2000.9 kB/s peers: 4) downloading \n",
            "61.17% complete (down: 68341.2 kb/s up: 1997.6 kB/s peers: 4) downloading \n",
            "62.03% complete (down: 63339.8 kb/s up: 1854.1 kB/s peers: 4) downloading \n",
            "62.89% complete (down: 62610.7 kb/s up: 1829.3 kB/s peers: 4) downloading \n",
            "63.81% complete (down: 62125.2 kb/s up: 1812.4 kB/s peers: 4) downloading \n",
            "64.67% complete (down: 60693.8 kb/s up: 1777.0 kB/s peers: 5) downloading \n",
            "65.47% complete (down: 61709.4 kb/s up: 1804.9 kB/s peers: 5) downloading \n",
            "66.38% complete (down: 62051.3 kb/s up: 1803.8 kB/s peers: 5) downloading \n",
            "67.13% complete (down: 55012.6 kb/s up: 1594.2 kB/s peers: 5) downloading \n",
            "67.66% complete (down: 43531.5 kb/s up: 1267.9 kB/s peers: 5) downloading \n",
            "68.26% complete (down: 44426.7 kb/s up: 1287.5 kB/s peers: 5) downloading \n",
            "68.81% complete (down: 41396.6 kb/s up: 1196.2 kB/s peers: 5) downloading \n",
            "69.24% complete (down: 32926.7 kb/s up: 951.9 kB/s peers: 5) downloading \n",
            "69.63% complete (down: 31232.6 kb/s up: 895.7 kB/s peers: 5) downloading \n",
            "69.97% complete (down: 26038.3 kb/s up: 745.7 kB/s peers: 5) downloading \n",
            "70.27% complete (down: 24417.3 kb/s up: 698.6 kB/s peers: 5) downloading \n",
            "70.54% complete (down: 20604.1 kb/s up: 586.7 kB/s peers: 5) downloading \n",
            "70.80% complete (down: 19361.2 kb/s up: 551.0 kB/s peers: 5) downloading \n",
            "71.02% complete (down: 17126.7 kb/s up: 487.0 kB/s peers: 5) downloading \n",
            "71.21% complete (down: 14743.5 kb/s up: 417.9 kB/s peers: 5) downloading \n",
            "71.39% complete (down: 14102.9 kb/s up: 398.7 kB/s peers: 5) downloading \n",
            "71.55% complete (down: 11933.4 kb/s up: 337.2 kB/s peers: 5) downloading \n",
            "71.71% complete (down: 11555.9 kb/s up: 326.4 kB/s peers: 5) downloading \n",
            "71.85% complete (down: 11240.1 kb/s up: 316.8 kB/s peers: 5) downloading \n",
            "71.97% complete (down: 9774.2 kb/s up: 273.3 kB/s peers: 5) downloading \n",
            "72.08% complete (down: 8368.4 kb/s up: 233.7 kB/s peers: 5) downloading \n",
            "72.22% complete (down: 7891.1 kb/s up: 222.0 kB/s peers: 5) downloading \n",
            "72.32% complete (down: 7749.1 kb/s up: 218.5 kB/s peers: 5) downloading \n",
            "72.45% complete (down: 8700.8 kb/s up: 248.6 kB/s peers: 5) downloading \n",
            "72.61% complete (down: 10686.4 kb/s up: 310.6 kB/s peers: 5) downloading \n",
            "72.77% complete (down: 12202.1 kb/s up: 353.2 kB/s peers: 5) downloading \n",
            "72.94% complete (down: 11753.6 kb/s up: 336.3 kB/s peers: 5) downloading \n",
            "73.07% complete (down: 10047.0 kb/s up: 281.5 kB/s peers: 5) downloading \n",
            "73.18% complete (down: 9259.4 kb/s up: 257.3 kB/s peers: 5) downloading \n",
            "73.27% complete (down: 7033.4 kb/s up: 195.6 kB/s peers: 5) downloading \n",
            "73.35% complete (down: 6424.0 kb/s up: 177.8 kB/s peers: 5) downloading \n",
            "73.41% complete (down: 5396.5 kb/s up: 149.7 kB/s peers: 5) downloading \n",
            "73.47% complete (down: 4564.0 kb/s up: 126.6 kB/s peers: 5) downloading \n",
            "73.53% complete (down: 4223.9 kb/s up: 116.9 kB/s peers: 5) downloading \n",
            "73.57% complete (down: 3525.2 kb/s up: 97.4 kB/s peers: 5) downloading \n",
            "73.61% complete (down: 3144.3 kb/s up: 87.2 kB/s peers: 5) downloading \n",
            "73.65% complete (down: 2656.2 kb/s up: 73.6 kB/s peers: 5) downloading \n",
            "73.67% complete (down: 2252.5 kb/s up: 62.4 kB/s peers: 5) downloading \n",
            "73.70% complete (down: 2090.2 kb/s up: 58.0 kB/s peers: 5) downloading \n",
            "73.75% complete (down: 3130.6 kb/s up: 89.1 kB/s peers: 4) downloading \n",
            "74.53% complete (down: 41888.3 kb/s up: 1233.6 kB/s peers: 4) downloading \n",
            "75.67% complete (down: 70501.0 kb/s up: 2054.3 kB/s peers: 4) downloading \n",
            "76.76% complete (down: 75341.9 kb/s up: 2187.2 kB/s peers: 4) downloading \n",
            "78.00% complete (down: 83256.1 kb/s up: 2414.3 kB/s peers: 4) downloading \n",
            "79.03% complete (down: 77190.9 kb/s up: 2237.3 kB/s peers: 4) downloading \n",
            "80.20% complete (down: 83481.5 kb/s up: 2416.0 kB/s peers: 4) downloading \n",
            "81.21% complete (down: 79680.8 kb/s up: 2304.7 kB/s peers: 4) downloading \n",
            "82.22% complete (down: 74887.8 kb/s up: 2180.2 kB/s peers: 4) downloading \n",
            "83.30% complete (down: 78495.4 kb/s up: 2274.4 kB/s peers: 4) downloading \n",
            "84.37% complete (down: 77524.5 kb/s up: 2250.8 kB/s peers: 4) downloading \n",
            "85.48% complete (down: 77095.3 kb/s up: 2238.2 kB/s peers: 4) downloading \n",
            "86.49% complete (down: 74030.7 kb/s up: 2159.4 kB/s peers: 5) downloading \n",
            "87.43% complete (down: 69500.5 kb/s up: 2027.1 kB/s peers: 5) downloading \n",
            "88.24% complete (down: 62665.7 kb/s up: 1814.8 kB/s peers: 5) downloading \n",
            "88.94% complete (down: 52937.4 kb/s up: 1525.1 kB/s peers: 5) downloading \n",
            "89.53% complete (down: 46674.9 kb/s up: 1345.2 kB/s peers: 5) downloading \n",
            "89.96% complete (down: 35433.6 kb/s up: 1024.4 kB/s peers: 5) downloading \n",
            "90.50% complete (down: 37933.7 kb/s up: 1099.5 kB/s peers: 5) downloading \n",
            "90.94% complete (down: 33142.4 kb/s up: 956.5 kB/s peers: 5) downloading \n",
            "91.32% complete (down: 27128.4 kb/s up: 779.7 kB/s peers: 5) downloading \n",
            "91.68% complete (down: 26126.6 kb/s up: 750.8 kB/s peers: 5) downloading \n",
            "91.99% complete (down: 26289.5 kb/s up: 751.6 kB/s peers: 5) downloading \n",
            "92.27% complete (down: 20325.8 kb/s up: 578.4 kB/s peers: 5) downloading \n",
            "92.51% complete (down: 17934.3 kb/s up: 510.5 kB/s peers: 5) downloading \n",
            "92.74% complete (down: 17225.1 kb/s up: 489.9 kB/s peers: 5) downloading \n",
            "92.92% complete (down: 15857.9 kb/s up: 449.1 kB/s peers: 5) downloading \n",
            "93.12% complete (down: 14158.6 kb/s up: 398.5 kB/s peers: 5) downloading \n",
            "93.31% complete (down: 11247.2 kb/s up: 317.3 kB/s peers: 5) downloading \n",
            "93.44% complete (down: 11101.9 kb/s up: 312.1 kB/s peers: 5) downloading \n",
            "93.57% complete (down: 10767.2 kb/s up: 302.0 kB/s peers: 5) downloading \n",
            "93.70% complete (down: 9668.4 kb/s up: 271.3 kB/s peers: 5) downloading \n",
            "93.87% complete (down: 10285.9 kb/s up: 292.5 kB/s peers: 5) downloading \n",
            "94.00% complete (down: 9301.9 kb/s up: 264.0 kB/s peers: 5) downloading \n",
            "94.11% complete (down: 9445.3 kb/s up: 267.1 kB/s peers: 5) downloading \n",
            "94.24% complete (down: 8486.3 kb/s up: 239.3 kB/s peers: 5) downloading \n",
            "94.35% complete (down: 8639.5 kb/s up: 243.2 kB/s peers: 5) downloading \n",
            "94.46% complete (down: 8228.8 kb/s up: 231.3 kB/s peers: 5) downloading \n",
            "94.56% complete (down: 8094.8 kb/s up: 227.1 kB/s peers: 5) downloading \n",
            "94.66% complete (down: 6761.3 kb/s up: 190.4 kB/s peers: 5) downloading \n",
            "94.75% complete (down: 7380.2 kb/s up: 207.8 kB/s peers: 5) downloading \n",
            "94.84% complete (down: 6949.6 kb/s up: 195.5 kB/s peers: 5) downloading \n",
            "94.93% complete (down: 6370.5 kb/s up: 179.3 kB/s peers: 5) downloading \n",
            "95.00% complete (down: 5662.1 kb/s up: 159.3 kB/s peers: 5) downloading \n",
            "95.09% complete (down: 6151.8 kb/s up: 174.9 kB/s peers: 5) downloading \n",
            "95.20% complete (down: 7301.2 kb/s up: 210.1 kB/s peers: 5) downloading \n",
            "95.28% complete (down: 6524.8 kb/s up: 183.6 kB/s peers: 5) downloading \n",
            "95.38% complete (down: 6553.6 kb/s up: 184.5 kB/s peers: 5) downloading \n",
            "95.45% complete (down: 5715.1 kb/s up: 160.9 kB/s peers: 5) downloading \n",
            "95.55% complete (down: 6975.8 kb/s up: 201.6 kB/s peers: 5) downloading \n",
            "95.70% complete (down: 9194.5 kb/s up: 270.2 kB/s peers: 5) downloading \n",
            "95.88% complete (down: 10904.1 kb/s up: 317.3 kB/s peers: 5) downloading \n",
            "96.05% complete (down: 11655.1 kb/s up: 338.9 kB/s peers: 5) downloading \n",
            "96.19% complete (down: 10335.3 kb/s up: 292.9 kB/s peers: 5) downloading \n",
            "96.30% complete (down: 8771.9 kb/s up: 245.9 kB/s peers: 5) downloading \n",
            "96.37% complete (down: 7412.2 kb/s up: 206.3 kB/s peers: 5) downloading \n",
            "96.46% complete (down: 5553.8 kb/s up: 154.5 kB/s peers: 5) downloading \n",
            "96.55% complete (down: 4991.6 kb/s up: 138.2 kB/s peers: 5) downloading \n",
            "96.61% complete (down: 4617.5 kb/s up: 127.8 kB/s peers: 5) downloading \n",
            "96.66% complete (down: 3619.9 kb/s up: 100.3 kB/s peers: 5) downloading \n",
            "96.70% complete (down: 3482.3 kb/s up: 96.6 kB/s peers: 5) downloading \n",
            "96.75% complete (down: 3272.5 kb/s up: 90.6 kB/s peers: 5) downloading \n",
            "96.78% complete (down: 2840.5 kb/s up: 78.8 kB/s peers: 5) downloading \n",
            "96.82% complete (down: 2609.2 kb/s up: 72.3 kB/s peers: 5) downloading \n",
            "96.84% complete (down: 2052.2 kb/s up: 56.8 kB/s peers: 5) downloading \n",
            "96.86% complete (down: 1867.7 kb/s up: 51.6 kB/s peers: 5) downloading \n",
            "96.88% complete (down: 1572.3 kb/s up: 43.7 kB/s peers: 4) downloading \n",
            "97.04% complete (down: 8404.9 kb/s up: 250.4 kB/s peers: 4) downloading \n",
            "97.41% complete (down: 20385.6 kb/s up: 594.1 kB/s peers: 4) downloading \n",
            "97.87% complete (down: 28887.4 kb/s up: 838.2 kB/s peers: 4) downloading \n",
            "98.34% complete (down: 33032.9 kb/s up: 947.5 kB/s peers: 4) downloading \n",
            "98.99% complete (down: 40440.0 kb/s up: 1167.2 kB/s peers: 4) downloading \n",
            "99.63% complete (down: 44862.0 kb/s up: 1299.4 kB/s peers: 4) downloading \n",
            "99.99% complete (down: 32574.4 kb/s up: 925.7 kB/s peers: 4) downloading \n",
            "99.99% complete (down: 10775.3 kb/s up: 306.7 kB/s peers: 4) downloading \n",
            "diabetic-retinopathy-detection COMPLETE\n",
            "Elapsed Time:  40 min : 8 sec\n",
            "2020-05-20 22:42:45.417230\n"
          ],
          "name": "stdout"
        }
      ]
    },
    {
      "cell_type": "code",
      "metadata": {
        "id": "p_a6JArTHBox",
        "colab_type": "code",
        "colab": {
          "base_uri": "https://localhost:8080/",
          "height": 34
        },
        "outputId": "4082da2e-e866-4cbf-d943-0481b0957303"
      },
      "source": [
        "!ls '/tmp/Diabetic Retinopathy Detection/diabetic-retinopathy-detection'"
      ],
      "execution_count": 7,
      "outputs": [
        {
          "output_type": "stream",
          "text": [
            "sample.zip  trainLabels.csv.zip  train.zip\n"
          ],
          "name": "stdout"
        }
      ]
    },
    {
      "cell_type": "code",
      "metadata": {
        "id": "wnH2I5JZeFso",
        "colab_type": "code",
        "colab": {
          "base_uri": "https://localhost:8080/",
          "height": 51
        },
        "outputId": "d5aadfe8-fd56-4aa2-e2ae-1f1ccb2b4685"
      },
      "source": [
        "%cd '/tmp/Diabetic Retinopathy Detection/diabetic-retinopathy-detection'\n",
        "!ls"
      ],
      "execution_count": 8,
      "outputs": [
        {
          "output_type": "stream",
          "text": [
            "/tmp/Diabetic Retinopathy Detection/diabetic-retinopathy-detection\n",
            "sample.zip  trainLabels.csv.zip  train.zip\n"
          ],
          "name": "stdout"
        }
      ]
    },
    {
      "cell_type": "code",
      "metadata": {
        "id": "s1sq97cYeS55",
        "colab_type": "code",
        "colab": {
          "base_uri": "https://localhost:8080/",
          "height": 68
        },
        "outputId": "58c320d1-1cf8-40e4-8358-7cd34d92a803"
      },
      "source": [
        "!unzip 'trainLabels.csv.zip'\n",
        "!ls"
      ],
      "execution_count": 9,
      "outputs": [
        {
          "output_type": "stream",
          "text": [
            "Archive:  trainLabels.csv.zip\n",
            "  inflating: trainLabels.csv         \n",
            "sample.zip  trainLabels.csv  trainLabels.csv.zip  train.zip\n"
          ],
          "name": "stdout"
        }
      ]
    },
    {
      "cell_type": "code",
      "metadata": {
        "id": "V2SUGAbbekys",
        "colab_type": "code",
        "colab": {
          "base_uri": "https://localhost:8080/",
          "height": 34
        },
        "outputId": "329ddef6-c228-4417-fcea-4891f2a2a298"
      },
      "source": [
        "!cat 'trainLabels.csv' | wc -l"
      ],
      "execution_count": 10,
      "outputs": [
        {
          "output_type": "stream",
          "text": [
            "35127\n"
          ],
          "name": "stdout"
        }
      ]
    },
    {
      "cell_type": "code",
      "metadata": {
        "id": "aFHnuWRleuuI",
        "colab_type": "code",
        "colab": {
          "base_uri": "https://localhost:8080/",
          "height": 187
        },
        "outputId": "e0bc41f7-ef6b-48d1-e640-a4d9f6de5268"
      },
      "source": [
        "!head -10 'trainLabels.csv'"
      ],
      "execution_count": 11,
      "outputs": [
        {
          "output_type": "stream",
          "text": [
            "image,level\n",
            "10_left,0\n",
            "10_right,0\n",
            "13_left,0\n",
            "13_right,0\n",
            "15_left,1\n",
            "15_right,2\n",
            "16_left,4\n",
            "16_right,4\n",
            "17_left,0\n"
          ],
          "name": "stdout"
        }
      ]
    },
    {
      "cell_type": "markdown",
      "metadata": {
        "id": "FwrnfOGJgUH0",
        "colab_type": "text"
      },
      "source": [
        "35126 datos en total (la primera linea es el header)\n",
        "\n",
        "aparentemente left y right tienen etiquetas distintas"
      ]
    },
    {
      "cell_type": "code",
      "metadata": {
        "id": "wu63Apjpe1RV",
        "colab_type": "code",
        "colab": {}
      },
      "source": [
        "import pandas as pd\n"
      ],
      "execution_count": 0,
      "outputs": []
    },
    {
      "cell_type": "markdown",
      "metadata": {
        "id": "2G6XOTuFhSuN",
        "colab_type": "text"
      },
      "source": [
        ""
      ]
    },
    {
      "cell_type": "code",
      "metadata": {
        "id": "218nCnqGe_nA",
        "colab_type": "code",
        "colab": {
          "base_uri": "https://localhost:8080/",
          "height": 204
        },
        "outputId": "41447dd9-e29e-437f-c33d-e8592f81baad"
      },
      "source": [
        "labels = pd.read_csv('trainLabels.csv', sep =',')\n",
        "labels.head()"
      ],
      "execution_count": 15,
      "outputs": [
        {
          "output_type": "execute_result",
          "data": {
            "text/html": [
              "<div>\n",
              "<style scoped>\n",
              "    .dataframe tbody tr th:only-of-type {\n",
              "        vertical-align: middle;\n",
              "    }\n",
              "\n",
              "    .dataframe tbody tr th {\n",
              "        vertical-align: top;\n",
              "    }\n",
              "\n",
              "    .dataframe thead th {\n",
              "        text-align: right;\n",
              "    }\n",
              "</style>\n",
              "<table border=\"1\" class=\"dataframe\">\n",
              "  <thead>\n",
              "    <tr style=\"text-align: right;\">\n",
              "      <th></th>\n",
              "      <th>image</th>\n",
              "      <th>level</th>\n",
              "    </tr>\n",
              "  </thead>\n",
              "  <tbody>\n",
              "    <tr>\n",
              "      <th>0</th>\n",
              "      <td>10_left</td>\n",
              "      <td>0</td>\n",
              "    </tr>\n",
              "    <tr>\n",
              "      <th>1</th>\n",
              "      <td>10_right</td>\n",
              "      <td>0</td>\n",
              "    </tr>\n",
              "    <tr>\n",
              "      <th>2</th>\n",
              "      <td>13_left</td>\n",
              "      <td>0</td>\n",
              "    </tr>\n",
              "    <tr>\n",
              "      <th>3</th>\n",
              "      <td>13_right</td>\n",
              "      <td>0</td>\n",
              "    </tr>\n",
              "    <tr>\n",
              "      <th>4</th>\n",
              "      <td>15_left</td>\n",
              "      <td>1</td>\n",
              "    </tr>\n",
              "  </tbody>\n",
              "</table>\n",
              "</div>"
            ],
            "text/plain": [
              "      image  level\n",
              "0   10_left      0\n",
              "1  10_right      0\n",
              "2   13_left      0\n",
              "3  13_right      0\n",
              "4   15_left      1"
            ]
          },
          "metadata": {
            "tags": []
          },
          "execution_count": 15
        }
      ]
    },
    {
      "cell_type": "markdown",
      "metadata": {
        "id": "uvKcEq_ngt5f",
        "colab_type": "text"
      },
      "source": [
        "se observa que el correlativo en el nombre de la imagen no es unitario"
      ]
    },
    {
      "cell_type": "code",
      "metadata": {
        "id": "BcIlYr12fG1Y",
        "colab_type": "code",
        "colab": {
          "base_uri": "https://localhost:8080/",
          "height": 68
        },
        "outputId": "6b3dc0f5-84f0-41af-e524-d09bb5fdf5bf"
      },
      "source": [
        "print('unique images: ',labels['image'].unique())\n",
        "print('unique image labels: ',labels['level'].unique())"
      ],
      "execution_count": 23,
      "outputs": [
        {
          "output_type": "stream",
          "text": [
            "unique images:  ['10_left' '10_right' '13_left' ... '44348_right' '44349_left'\n",
            " '44349_right']\n",
            "unique image labels:  [0 1 2 4 3]\n"
          ],
          "name": "stdout"
        }
      ]
    },
    {
      "cell_type": "code",
      "metadata": {
        "id": "0lFxUG1Fg2RC",
        "colab_type": "code",
        "colab": {
          "base_uri": "https://localhost:8080/",
          "height": 51
        },
        "outputId": "30d40df0-7275-4162-c995-ddd5ff6d8165"
      },
      "source": [
        "print('images len : ',len(labels['image'].unique()))\n",
        "print('unique image labels: ',labels['level'].unique())"
      ],
      "execution_count": 24,
      "outputs": [
        {
          "output_type": "stream",
          "text": [
            "images len :  35126\n",
            "unique image labels:  [0 1 2 4 3]\n"
          ],
          "name": "stdout"
        }
      ]
    },
    {
      "cell_type": "markdown",
      "metadata": {
        "id": "1HMK4ZjJfatf",
        "colab_type": "text"
      },
      "source": [
        "se tienen 4 clases. un primer enfoque será tratar las imágenes left y right de las retinas como indistintos. ¿por qué? porque podremos usar data augmentation y hacerles un flip horizontal para modificar la data, de manera que el modelo que definamos pueda aprender a distinguir los rasgos indiferente de si es left o right, y luego checkear los resultados."
      ]
    },
    {
      "cell_type": "code",
      "metadata": {
        "id": "rEWwUGT9fYnI",
        "colab_type": "code",
        "colab": {}
      },
      "source": [
        ""
      ],
      "execution_count": 0,
      "outputs": []
    }
  ]
}